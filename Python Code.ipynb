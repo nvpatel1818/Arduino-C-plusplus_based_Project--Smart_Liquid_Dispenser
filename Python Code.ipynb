{
 "cells": [
  {
   "cell_type": "code",
   "execution_count": 5,
   "id": "9c74abdc",
   "metadata": {},
   "outputs": [
    {
     "name": "stdout",
     "output_type": "stream",
     "text": [
      "Process Started\n",
      "Please enter the value: 2\n",
      "Process Completed\n"
     ]
    }
   ],
   "source": [
    "\n",
    "from pyfirmata import Arduino, SERVO, util\n",
    "import time\n",
    "from playsound import playsound\n",
    "\n",
    "port= \"/dev/cu.usbmodem14101\"\n",
    "pin=10\n",
    "board= Arduino(port)\n",
    "\n",
    "board.digital[pin].mode=SERVO\n",
    "\n",
    "def rotateservo(pin,angle):      #arduino-servomotor function\n",
    "    board.digital[pin].write(angle)\n",
    "    time.sleep(0.03)\n",
    "\n",
    "#user_input= float(input(\"Enter a value: \"))   #inout as amount of litre of water to be dispensed\n",
    "#volumetric= (user_input/1000)   #converting from litre to m3 volume\n",
    "#std_flowrate= 0.025    #standard flowrate from cross section of respective pipe\n",
    "#x= (volumetric/std_flowrate)    #time in seconds\n",
    "#print(x)\n",
    "\n",
    "print(\"Process Started\")\n",
    "playsound(\"/Users/jamesbond/Desktop/Auto Stop Water Faucet/ps.m4a\")\n",
    "\n",
    "x=int(input(\"Please enter the value: \"))\n",
    "\n",
    "while True:\n",
    "        \n",
    "    for i in range (0,103):   #servo motor rotation during opening the ball valve\n",
    "        rotateservo(pin,i)\n",
    "\n",
    "    time.sleep(x)   #targeted delay in seconds\n",
    "\n",
    "    for i in range (103,-1):   #servo motor rotation during closing the ball valve\n",
    "        rotateservo(pin,i)\n",
    "\n",
    "      #stop the while loop of motor rotation\n",
    "    break\n",
    "\n",
    "print(\"Process Completed\")\n",
    "playsound(\"/Users/jamesbond/Desktop/Auto Stop Water Faucet/pc.m4a\")\n",
    "\n",
    "playsound(\"/Users/jamesbond/Desktop/Auto Stop Water Faucet/n.m4a\")\n"
   ]
  },
  {
   "cell_type": "code",
   "execution_count": 14,
   "id": "692d739e",
   "metadata": {},
   "outputs": [
    {
     "name": "stdout",
     "output_type": "stream",
     "text": [
      "Process Started\n",
      "Enter the value: 2\n"
     ]
    }
   ],
   "source": [
    "\n",
    "from pyfirmata import Arduino, SERVO, util\n",
    "import time\n",
    "\n",
    "port= \"/dev/cu.usbmodem14101\"\n",
    "pin=9\n",
    "board= Arduino(port)\n",
    "\n",
    "board.digital[pin].mode=SERVO\n",
    "\n",
    "def rotateservo(pin,angle):      #arduino-servomotor function\n",
    "    board.digital[pin].write(angle)\n",
    "    time.sleep(0.03)\n",
    "\n",
    "#user_input= float(input(\"Enter a value: \"))   #inout as amount of litre of water to be dispensed\n",
    "#volumetric= (user_input/1000)   #converting from litre to m3 volume\n",
    "#std_flowrate= 0.025    #standard flowrate from cross section of respective pipe\n",
    "#x= (volumetric/std_flowrate)    #time in seconds\n",
    "\n",
    "print(\"Process Started\")\n",
    "\n",
    "\n",
    "while True:\n",
    "    x=int(input(\"Enter the value: \"))\n",
    "    if x>0:\n",
    "        for i in range (0,90,1):   #servo motor rotation during opening the ball valve\n",
    "            rotateservo(pin,i)\n",
    "\n",
    "        time.sleep(x)   #targeted delay in seconds\n",
    "\n",
    "        for i in range (90,-1,-1):   #servo motor rotation during closing the ball valve\n",
    "            rotateservo(pin,i)\n",
    "\n",
    "        break  #stop the while loop of motor rotation\n",
    "\n",
    "    print(\"Process Completed\")\n",
    "    continue\n",
    "\n",
    "\n"
   ]
  },
  {
   "cell_type": "code",
   "execution_count": null,
   "id": "b5c4cc9d",
   "metadata": {},
   "outputs": [],
   "source": []
  }
 ],
 "metadata": {
  "kernelspec": {
   "display_name": "Python 3 (ipykernel)",
   "language": "python",
   "name": "python3"
  },
  "language_info": {
   "codemirror_mode": {
    "name": "ipython",
    "version": 3
   },
   "file_extension": ".py",
   "mimetype": "text/x-python",
   "name": "python",
   "nbconvert_exporter": "python",
   "pygments_lexer": "ipython3",
   "version": "3.9.12"
  },
  "vscode": {
   "interpreter": {
    "hash": "aee8b7b246df8f9039afb4144a1f6fd8d2ca17a180786b69acc140d282b71a49"
   }
  }
 },
 "nbformat": 4,
 "nbformat_minor": 5
}
